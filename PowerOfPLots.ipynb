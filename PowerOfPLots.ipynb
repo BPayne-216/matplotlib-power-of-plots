{
 "metadata": {
  "language_info": {
   "codemirror_mode": {
    "name": "ipython",
    "version": 3
   },
   "file_extension": ".py",
   "mimetype": "text/x-python",
   "name": "python",
   "nbconvert_exporter": "python",
   "pygments_lexer": "ipython3",
   "version": 3
  },
  "orig_nbformat": 2
 },
 "nbformat": 4,
 "nbformat_minor": 2,
 "cells": [
  {
   "cell_type": "markdown",
   "metadata": {},
   "source": [
    "Obervations and Insights: The Power of Plots"
   ]
  },
  {
   "cell_type": "code",
   "execution_count": null,
   "metadata": {},
   "outputs": [],
   "source": [
    "import matplotlib.pyplot as plt\n",
    "import pandas as pd\n",
    "import scipy.stats as st"
   ]
  },
  {
   "cell_type": "code",
   "execution_count": null,
   "metadata": {},
   "outputs": [],
   "source": [
    "#Bring in csv files and put them into dataframes\n",
    "mouse_metadata_path = \"Resources/Mouse_metadata.csv\"\n",
    "study_results_path = \"Resources/Study_results.csv\"\n",
    "mouse_metadata_df = pd.read_csv(mouse_metadata_path)\n",
    "study_results_df = pd.read_csv(study_results_path)\n"
   ]
  },
  {
   "cell_type": "code",
   "execution_count": null,
   "metadata": {},
   "outputs": [],
   "source": [
    "#Combine the data into a single dataset\n",
    "merged_df = pd.merge(mouse_metadata_df,study_results_df, on=\"Mouse ID\")\n",
    "merged_df"
   ]
  },
  {
   "cell_type": "code",
   "execution_count": null,
   "metadata": {},
   "outputs": [],
   "source": [
    "#Get Unique number of Mouse by Mouse ID\n",
    "uniquemouse = merged_df['Mouse ID'].nunique()\n",
    "print(uniquemouse)"
   ]
  },
  {
   "cell_type": "code",
   "execution_count": null,
   "metadata": {},
   "outputs": [],
   "source": [
    "#Maximum Timecount is 10 per Mouse ID.  If Mouse ID has greater than 10, delete.\n",
    "mousetp_count = merged_df[[\"Mouse ID\",\"Timepoint\"]].groupby(['Mouse ID']).agg(['count'])\n",
    "mousetp_count"
   ]
  },
  {
   "cell_type": "code",
   "execution_count": null,
   "metadata": {},
   "outputs": [],
   "source": [
    "#Merge Total Time Count into dataframe to exclude TimeCounts > 10\n",
    "cleanmerged_df = pd.merge(merged_df,mousetp_count, on=\"Mouse ID\")\n",
    "cleanmerged_df\n",
    "cleanmerged_df.rename(columns={cleanmerged_df.columns[8]: \"sumtimecount\"}, inplace = True)\n",
    "cleanmerged_df"
   ]
  },
  {
   "cell_type": "code",
   "execution_count": null,
   "metadata": {},
   "outputs": [],
   "source": [
    "#Delete all Mouse ID entries with total timepoints > 10 \"G989\" has 13\n",
    "cleanmerged_df=cleanmerged_df[cleanmerged_df['sumtimecount'] < 11]\n",
    "cleanmerged_df"
   ]
  },
  {
   "cell_type": "code",
   "execution_count": null,
   "metadata": {},
   "outputs": [],
   "source": [
    "#Generate Summary Statistics table of the Tumor Volume for each drug regimen\n",
    "#Set up calculations Mean, Median, Variance, Standard Deviation, and SEM\n",
    "meantumorvol = cleanmerged_df.groupby('Drug Regimen')['Tumor Volume (mm3)'].mean()\n",
    "mediantumorvol = cleanmerged_df.groupby('Drug Regimen')['Tumor Volume (mm3)'].median()\n",
    "variancetumorvol = cleanmerged_df.groupby('Drug Regimen')['Tumor Volume (mm3)'].var()\n",
    "stdevtumorvol = cleanmerged_df.groupby('Drug Regimen')['Tumor Volume (mm3)'].std()\n",
    "semtumorvol = cleanmerged_df.groupby('Drug Regimen')['Tumor Volume (mm3)'].sem()\n",
    "#Put Summary statistics into DataFrame\n",
    "tumorvoldrug_df = pd.DataFrame({\"Mean\": meantumorvol, \"Median\": mediantumorvol, \"Variance\": variancetumorvol, \"St Dev\": stdevtumorvol, \"SEM\": semtumorvol})\n",
    "tumorvoldrug_df"
   ]
  },
  {
   "cell_type": "code",
   "execution_count": null,
   "metadata": {},
   "outputs": [],
   "source": [
    "#Generate Bar Plot by DataFrame.plot() Total Mice fore each treatment regimen\n",
    "#Need the unique number of Mice IDs per regimen\n",
    "mouseperdrug = cleanmerged_df.drop_duplicates(subset =['Mouse ID'])\n",
    "mouseperdrug.sort_values(by=['Drug Regimen', 'Mouse ID'])\n",
    "mouseperdrug"
   ]
  }
 ]
}